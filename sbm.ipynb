{
 "cells": [
  {
   "cell_type": "code",
   "execution_count": 304,
   "metadata": {},
   "outputs": [],
   "source": [
    "import numpy as np\n",
    "import math\n",
    "import random\n",
    "from numpy.linalg import eig\n",
    "import matplotlib.pyplot as plt"
   ]
  },
  {
   "cell_type": "code",
   "execution_count": 305,
   "metadata": {},
   "outputs": [],
   "source": [
    "## Dividing vertices into clusters\n",
    "\n",
    "N = 1000 ## Number of vertices\n",
    "p = 0.5 ## Probability of being in cluster 1 (given two clusters)\n",
    "\n",
    "def x_vec(N,p):\n",
    "    '''\n",
    "    x vector has value 1 at index i if ith vertex is in cluster 1, and it i has\n",
    "    value -1 at index i if ith vertex is in cluster 2\n",
    "    '''\n",
    "    memberships = np.array([0 for count in range(N)])\n",
    "    for e in range(N):\n",
    "        memberships[e] = 2*int(random.uniform(0,1)>p)-1\n",
    "    return memberships\n",
    "\n",
    "def ones(N):\n",
    "    '''\n",
    "    NxN square matrix of all 1's\n",
    "    '''\n",
    "    ##NxN ones matrix\n",
    "    ones = np.array([1 for count in range(N)])\n",
    "    ones.shape = (N,1)\n",
    "    one_mat = ones.dot(ones.T)\n",
    "    return one_mat\n",
    "\n",
    "def xxt(x_vec):\n",
    "    '''\n",
    "    Given a column vector x, return matrix xx^T\n",
    "    '''\n",
    "    x_vec.shape = (N,1)\n",
    "    xxt = x_vec.dot(x_vec.T)\n",
    "    return xxt"
   ]
  },
  {
   "cell_type": "code",
   "execution_count": 306,
   "metadata": {},
   "outputs": [],
   "source": [
    "##Building Bernoulli adjacency matrix\n",
    "def adj_matrix(delta, gamma, N, x):\n",
    "    '''\n",
    "    Given delta, gamma, x, and N, return the adjacency matrix\n",
    "    '''\n",
    "    zero_vec = np.array([0 for count in range(N)])\n",
    "    adj_mat = np.array([zero_vec for count in range(N)])\n",
    "    \n",
    "    for i in range(N):\n",
    "        adj_mat[i][i]=0\n",
    "        for j in range(i+1, N):\n",
    "            edge = int(random.uniform(0,1) > delta + gamma * x[i] * x[j])\n",
    "            adj_mat[i][j] = edge\n",
    "            adj_mat[j][i] = edge\n",
    "    \n",
    "    return adj_mat"
   ]
  },
  {
   "cell_type": "code",
   "execution_count": 307,
   "metadata": {},
   "outputs": [],
   "source": [
    "def mod_adj(A, N, delta):\n",
    "    '''\n",
    "    Adjacency matrix subtracted by delta at every entry, then divided by a normalizing value\n",
    "    '''\n",
    "    diffA = A - delta * ones(N)\n",
    "    return 1/math.sqrt(N*delta*(1-delta)) * diffA"
   ]
  },
  {
   "cell_type": "code",
   "execution_count": 308,
   "metadata": {},
   "outputs": [],
   "source": [
    "##Wigner matrix\n",
    "def Wigner(N):\n",
    "    '''\n",
    "    Construct an N-dimensional symmetric Wigner matrix\n",
    "    '''\n",
    "    W = [[0 for i in range(N)] for j in range(N)]\n",
    "    for i in range(N):\n",
    "        for j in range(i,N):\n",
    "            W[i][j] = np.random.normal()\n",
    "            W[j][i] = W[i][j]\n",
    "    W = np.matrix(W)\n",
    "    return W"
   ]
  },
  {
   "cell_type": "code",
   "execution_count": 309,
   "metadata": {},
   "outputs": [],
   "source": [
    "def Gaussian_Adj(lam, xxt, N):\n",
    "    '''\n",
    "    Produce a spiked Wigner matrix, which is the sum of a normalized Wigner \n",
    "    and lambda/N * xxt\n",
    "    '''\n",
    "    Y = lam/N * xxt + math.sqrt(1/N)*W\n",
    "    return Y"
   ]
  },
  {
   "cell_type": "code",
   "execution_count": 310,
   "metadata": {},
   "outputs": [],
   "source": [
    "def lambda_max(M):\n",
    "    '''\n",
    "    Find maximum eigenvalue of any matrix\n",
    "    '''\n",
    "    return max(eig(M)[0])"
   ]
  },
  {
   "cell_type": "code",
   "execution_count": 311,
   "metadata": {},
   "outputs": [],
   "source": [
    "def spectra(delta,gamma,N,p):\n",
    "    '''\n",
    "    1) Return the maximum eigenvalue of the adjacency matrix after it is subtracted by \n",
    "    delta at every entry and divided by sqrt(n*delta*(1-delta)) at every entry\n",
    "    \n",
    "    2) Return maximum eigenvalue of of beta/N xxt(x) + 1/math.sqrt(N)*Wigner(N),\n",
    "    or the spiked Wigner analog to the scaled adjacency matrix\n",
    "    '''\n",
    "    x = x_vec(N,p)\n",
    "    A = adj_matrix(delta, gamma, N, x)\n",
    "    mod_adj_max_eig = lambda_max(mod_adj(A,N,delta))\n",
    "    \n",
    "    beta = gamma*math.sqrt(N)/math.sqrt(delta*(1-delta))\n",
    "    gauss_max_eig = lambda_max(Gaussian_Adj(beta, xxt(x), N))\n",
    "    \n",
    "    print(\"Beta\", beta)\n",
    "    \n",
    "    return mod_adj_max_eig, gauss_max_eig"
   ]
  },
  {
   "cell_type": "code",
   "execution_count": 312,
   "metadata": {},
   "outputs": [],
   "source": [
    "def max_eigenvector(Z):\n",
    "    '''\n",
    "    Return eigenvector corresponding to maximum eigenvalue\n",
    "    '''\n",
    "    return np.linalg.eigh(Z)[1][:,-1]"
   ]
  },
  {
   "cell_type": "code",
   "execution_count": 313,
   "metadata": {},
   "outputs": [],
   "source": [
    "def recover_x_from_spiked_wigner(x,N,beta):\n",
    "    '''\n",
    "    Recovering x (memberships vector) from Spiked Wigner, which contains Gaussian noise\n",
    "    '''\n",
    "    Y = Gaussian_Adj(beta, xxt(x),N)\n",
    "    eigv_max = max_eigenvector(Y)\n",
    "    for i in range(len(eigv_max)):\n",
    "        '''\n",
    "        Modifying eigenvector so every positive value becomes 1 and every negative value becomes -1\n",
    "        '''\n",
    "        if eigv_max[i]>0:\n",
    "            eigv_max[i]=1\n",
    "        else:\n",
    "            eigv_max[i]=-1\n",
    "    return eigv_max"
   ]
  },
  {
   "cell_type": "code",
   "execution_count": 314,
   "metadata": {},
   "outputs": [],
   "source": [
    "def avg_dist_x_recovery(N_iters,N,p,beta):\n",
    "    '''\n",
    "    Finding on average, how far the recovered x is from the true x, given beta\n",
    "    '''\n",
    "    sum_dists = 0\n",
    "    for i in range(N_iters):\n",
    "        x = x_vec(N,p)\n",
    "        recov = recover_x_from_spiked_wigner(x,N,beta)\n",
    "        sum_dists += min(np.linalg.norm(x - recov),np.linalg.norm(x+recov)) ## Accounting for symmetry in recovery\n",
    "    return sum_dists / N_iters"
   ]
  },
  {
   "cell_type": "code",
   "execution_count": 315,
   "metadata": {
    "scrolled": true
   },
   "outputs": [
    {
     "data": {
      "text/plain": [
       "Text(0, 0.5, 'Distance')"
      ]
     },
     "execution_count": 315,
     "metadata": {},
     "output_type": "execute_result"
    },
    {
     "data": {
      "image/png": "[encoded data removed]",
      "text/plain": [
       "<Figure size 432x288 with 1 Axes>"
      ]
     },
     "metadata": {
      "needs_background": "light"
     },
     "output_type": "display_data"
    }
   ],
   "source": [
    "betas = [0.1,0.2,0.5,0.75,0.9,1,1.1,1.2,1.5,2,3,4,5,6]\n",
    "dists = [avg_dist_x_recovery(10,1000,0.5,beta) for beta in betas]\n",
    "plt.scatter(betas, dists)\n",
    "plt.title(\"Beta vs. Euclidean distance between recovered x and true x\")\n",
    "plt.xlabel(\"x\")\n",
    "plt.ylabel(\"Distance\")"
   ]
  },
  {
   "cell_type": "code",
   "execution_count": 316,
   "metadata": {},
   "outputs": [],
   "source": [
    "def recover_x_from_adj(A,N,delta):\n",
    "    '''\n",
    "    Recover x from the modified adjacency matrix by taking the maximum eigenvector\n",
    "    '''\n",
    "    A_star = mod_adj(A,N,delta)\n",
    "    eigv_max = max_eigenvector(A_star)\n",
    "    for i in range(len(eigv_max)):\n",
    "        if eigv_max[i]>0:\n",
    "            eigv_max[i]=1\n",
    "        else:\n",
    "            eigv_max[i]=-1\n",
    "    return eigv_max"
   ]
  },
  {
   "cell_type": "code",
   "execution_count": 317,
   "metadata": {},
   "outputs": [],
   "source": [
    "def calc_beta(delta,gamma,N):\n",
    "    '''\n",
    "    Calculate beta, the value that must be compared to the threshold of 1 to determine\n",
    "    if spike recovery is possible\n",
    "    '''\n",
    "    return gamma * math.sqrt(N)/math.sqrt(delta * (1-delta))"
   ]
  },
  {
   "cell_type": "code",
   "execution_count": 318,
   "metadata": {},
   "outputs": [],
   "source": [
    "def accuracy_with_symmetry(x1,x2):\n",
    "    nz = np.count_nonzero(x1-x2)\n",
    "    return max(nz/len(x1), (len(x1)-nz)/len(x1))"
   ]
  },
  {
   "cell_type": "code",
   "execution_count": 321,
   "metadata": {},
   "outputs": [
    {
     "name": "stdout",
     "output_type": "stream",
     "text": [
      "12.649110640673518\n"
     ]
    },
    {
     "data": {
      "text/plain": [
       "0.51"
      ]
     },
     "execution_count": 321,
     "metadata": {},
     "output_type": "execute_result"
    }
   ],
   "source": [
    "N = 1000\n",
    "p = 0.5\n",
    "delta = 0.5\n",
    "gamma = 0.2\n",
    "x = x_vec(N,p)\n",
    "A = adj_matrix(delta,gamma,N,x)\n",
    "print(calc_beta(delta,gamma,N))\n",
    "accuracy_with_symmetry(recover_x_from_adj(A,N,delta),x)"
   ]
  },
  {
   "cell_type": "code",
   "execution_count": 320,
   "metadata": {},
   "outputs": [
    {
     "data": {
      "text/plain": [
       "1.0"
      ]
     },
     "execution_count": 320,
     "metadata": {},
     "output_type": "execute_result"
    }
   ],
   "source": [
    "accuracy_with_symmetry(max_eigenvector(A),x)"
   ]
  }
 ],
 "metadata": {
  "kernelspec": {
   "display_name": "Python 3",
   "language": "python",
   "name": "python3"
  },
  "language_info": {
   "codemirror_mode": {
    "name": "ipython",
    "version": 3
   },
   "file_extension": ".py",
   "mimetype": "text/x-python",
   "name": "python",
   "nbconvert_exporter": "python",
   "pygments_lexer": "ipython3",
   "version": "3.7.3"
  }
 },
 "nbformat": 4,
 "nbformat_minor": 2
}
